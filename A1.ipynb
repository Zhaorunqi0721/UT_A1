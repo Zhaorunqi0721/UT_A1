{
 "cells": [
  {
   "cell_type": "code",
   "execution_count": null,
   "metadata": {},
   "outputs": [],
   "source": [
    "import numpy as np\n",
    "from numpy import linalg as LA\n",
    "import pandas as pd\n",
    "pd.options.mode.chained_assignment = None \n",
    "from datetime import datetime\n",
    "import scipy.interpolate\n",
    "import scipy.optimize as optimize\n",
    "from scipy.interpolate import interp1d\n",
    "import matplotlib.pyplot as plt"
   ]
  },
  {
   "cell_type": "code",
   "execution_count": null,
   "metadata": {},
   "outputs": [],
   "source": [
    "df_full = pd.read_csv('/Users/runqizhao/Desktop/APM466/A1/bond_data_a1.csv')"
   ]
  },
  {
   "cell_type": "code",
   "execution_count": null,
   "metadata": {},
   "outputs": [],
   "source": [
    "df_full['Maturity'] = pd.to_datetime(df_full['Maturity'])\n",
    "\n",
    "\n",
    "selected_columns = ['ISIN', 'Issue Date', 'Maturity', 'coupon', \n",
    "                    '2024-01-08', '2024-01-09', '2024-01-10', '2024-01-11', '2024-01-12', '2024-01-15', '2024-01-16', '2024-01-17', '2024-01-18', '2024-01-19']\n",
    "df = df_full[selected_columns]\n",
    "\n",
    "for d in df:\n",
    "    print(d)\n",
    "\n",
    "time = ['2024-01-08', '2024-01-09', '2024-01-10', '2024-01-11', '2024-01-12', '2024-01-15', '2024-01-16', '2024-01-17', '2024-01-18', '2024-01-19']"
   ]
  },
  {
   "cell_type": "code",
   "execution_count": null,
   "metadata": {},
   "outputs": [],
   "source": [
    "# generate data\n",
    "df.dropna(inplace=True)"
   ]
  },
  {
   "cell_type": "code",
   "execution_count": null,
   "metadata": {},
   "outputs": [],
   "source": [
    "data = []\n",
    "data.append(df.iloc[:,0:5])\n",
    "for i in range(5, 14):\n",
    "    data.append(df.iloc[:, [0, 1, 2, 3, i]])"
   ]
  },
  {
   "cell_type": "code",
   "execution_count": null,
   "metadata": {},
   "outputs": [],
   "source": [
    "for data_f in data:\n",
    "    current_time = datetime.fromisoformat(data_f.columns.values[-1])\n",
    "    time_to_maturity = []\n",
    "    for date in data_f[\"Maturity\"]:\n",
    "        time_to_maturity.append((date - current_time).days)\n",
    "    data_f[\"time to maturity\"] = time_to_maturity\n",
    "\n",
    "    accrued_interest = []\n",
    "    for i, row in data_f.iterrows():\n",
    "        coupon = float(row[\"coupon\"].strip('%'))\n",
    "        days = 182-row[\"time to maturity\"] % 182\n",
    "        accrued_interest.append((days * coupon) / 365)\n",
    "    data_f[\"accrued interest\"] = accrued_interest\n",
    "\n",
    "    dirty_price = []\n",
    "    for i, row in data_f.iterrows():\n",
    "        dirty_price.append(row[-3] + row[\"accrued interest\"])\n",
    "    data_f[\"dirty price\"] = dirty_price\n",
    "    \n",
    "    yield_list = []\n",
    "    x_list = []\n",
    "    for i, row in data_f.iterrows():\n",
    "        time_to_maturity = row[\"time to maturity\"]\n",
    "        coupon_rate = float(row[\"coupon\"].strip('%'))\n",
    "\n",
    "        x_list.append(time_to_maturity / 365)\n",
    "\n",
    "        days = []\n",
    "        for n in range(0, int(time_to_maturity / 182) + 1):\n",
    "            day = (time_to_maturity % 182) / 182 + n\n",
    "            days.append(day)\n",
    "        days = np.asarray(days)\n",
    "\n",
    "        payment = np.asarray([coupon_rate / 2] * int(time_to_maturity / 182) + [coupon_rate / 2 + 100])\n",
    "\n",
    "        def equation(y):\n",
    "            return np.dot(payment, (1 + y / 2) ** (-days)) - row[\"dirty price\"]\n",
    "\n",
    "        yield_value = optimize.fsolve(equation, 0.05)[0]\n",
    "        yield_list.append(yield_value)    \n",
    "    data_f[\"yield\"] = yield_list\n",
    "    data_f[\"x\"] = x_list"
   ]
  },
  {
   "cell_type": "code",
   "execution_count": null,
   "metadata": {},
   "outputs": [],
   "source": [
    "# uninterpolated yield curve\n",
    "labels = ['2024-01-08','2024-01-09','2024-01-10','2024-01-11','2024-01-12', '2024-01-15','2024-01-16','2024-01-17','2024-01-18','2024-01-19']\n",
    "for i in range(len(data)):\n",
    "    plt.plot(data[i][\"x\"], data[i][\"yield\"], label = labels[i])\n",
    "    plt.legend(loc='best')\n",
    "    plt.xlim(0,5)\n",
    "    plt.ylim(0,0.05)\n",
    "    plt.xlabel('Time to Maturity')\n",
    "    plt.ylabel('Yield')\n",
    "    plt.title('5years Yield Curve')"
   ]
  },
  {
   "cell_type": "code",
   "execution_count": null,
   "metadata": {},
   "outputs": [],
   "source": [
    "def draw_interploation(input1, input2):\n",
    "    year_interval = []\n",
    "    for i in range(1, 11):\n",
    "        year_interval.append(i * 0.5)\n",
    "    \n",
    "    output = np.poly1d(np.polyfit(input1, input2, 2))(year_interval)\n",
    "    year_interval, output = np.asarray(year_interval), np.asarray(output)\n",
    "    return year_interval, output"
   ]
  },
  {
   "cell_type": "code",
   "execution_count": null,
   "metadata": {},
   "outputs": [],
   "source": [
    "def calculate_diff(y, t, npl, df, i, col):\n",
    "    future_cash_flows = np.dot(t[:-1], np.exp(-(np.multiply(npl[0, :i], df[\"x\"][:i]))))\n",
    "    present_value = future_cash_flows + t[i] * np.exp(-y * col[\"x\"])\n",
    "    return present_value - col[\"dirty price\"]\n",
    "\n",
    "def draw_spot_rate(df):\n",
    "    res = np.zeros([1,11])\n",
    "    for i, col in df.iterrows():\n",
    "        rate = float(col[\"coupon\"].strip('%')) / 2\n",
    "        if i == 0:\n",
    "            dirty_price = col[\"dirty price\"]\n",
    "            res[0, i] = -np.log(dirty_price / (rate+100)) / col[\"x\"]\n",
    "        else:\n",
    "            t = np.asarray([rate] * i + [rate + 100])\n",
    "            diff = lambda y: calculate_diff(y, t, res, df, i, col)\n",
    "            res[0, i] = optimize.fsolve(diff, .05)\n",
    "    return res\n",
    "\n",
    "for i in range(len(data)):\n",
    "    plt.plot(data[i][\"x\"], draw_spot_rate(data[i]).squeeze(), label = labels[i])\n",
    "    plt.legend(loc='best')\n",
    "    plt.xlabel('Time to Maturity')\n",
    "    plt.ylabel('Spot Rate')\n",
    "    plt.xlim(0,5)\n",
    "    plt.ylim(0,0.05)\n",
    "    plt.title('Spot Rate Curve')"
   ]
  },
  {
   "cell_type": "code",
   "execution_count": null,
   "metadata": {},
   "outputs": [],
   "source": [
    "\n",
    "def forward_rate(df):\n",
    "    input1, input2 = df[\"x\"], draw_spot_rate(df).squeeze()\n",
    "    rate1, rate2 = draw_interploation(input1, input2)\n",
    "    f = []\n",
    "    for i in [3, 5, 7, 9]:\n",
    "        fi = (rate2[i] * (i + 1) / 2 - rate2[1]) / ((i + 1) / 2 - 1)\n",
    "        f.append(fi)\n",
    "    return f\n",
    "\n",
    "\n",
    "# forward curve\n",
    "for i in range(len(data)):\n",
    "    plt.plot(['1yr-1yr','1yr-2yr','1yr-3yr','1yr-4yr'], forward_rate(data[i]), label = labels[i])\n",
    "    plt.legend(loc = 'best')\n",
    "    plt.ylim(0,0.05)\n",
    "    plt.xlabel('Time to Maturity')\n",
    "    plt.ylabel('Forward Rate')\n",
    "    plt.title('Forward Rate Curve')"
   ]
  },
  {
   "cell_type": "code",
   "execution_count": null,
   "metadata": {},
   "outputs": [],
   "source": [
    "print(forward_rate(data[0]))"
   ]
  },
  {
   "cell_type": "code",
   "execution_count": null,
   "metadata": {},
   "outputs": [],
   "source": [
    "def cov(df):\n",
    "    l, value = np.zeros([5,9]), np.zeros([5,10])\n",
    "    \n",
    "    for i in range(len(df)):\n",
    "        rate1, rate2 = draw_interploation(df[i][\"x\"], df[i][\"yield\"])\n",
    "        for j, idx in enumerate(range(1, 10, 2)):\n",
    "            value[j, i] = rate2[idx]\n",
    "    \n",
    "    for i in range(0, 9):\n",
    "        for j in range(5):\n",
    "            l[j, i] = np.log(value[j, i+1] / value[j, i])\n",
    "    \n",
    "    return np.cov(l), l\n",
    "\n",
    "print('Daily Log-Returns of yield')\n",
    "print(cov(data)[0])\n",
    "e1, e2 = np.linalg.eig(cov(data)[0])\n",
    "print(\"eigenvalue for Daily Log-Returns of yield:\")\n",
    "print(e1)\n",
    "print(\"eigenvector for Daily Log-Returns of yield: \")\n",
    "print(e2)"
   ]
  },
  {
   "cell_type": "code",
   "execution_count": null,
   "metadata": {},
   "outputs": [],
   "source": [
    "def calcualte_matrix(df):\n",
    "    output = np.zeros([4,10])\n",
    "    for i in range(len(df)):\n",
    "        output[:,i] = forward_rate(df[i])\n",
    "    return output\n",
    "\n",
    "print(\"Forward Rate's Covariance Matrix: \") \n",
    "print(np.cov(calcualte_matrix(data)))\n",
    "u1, u2 = np.linalg.eig(np.cov(calcualte_matrix(data)))\n",
    "print(\"Eigenvalue for Forward Rate's Covariance Matrix:\")\n",
    "print(u1)\n",
    "print(\"Eigenvector for Forward Rate's Covariance Matrix\")\n",
    "print(u2)"
   ]
  },
  {
   "cell_type": "code",
   "execution_count": null,
   "metadata": {},
   "outputs": [],
   "source": []
  }
 ],
 "metadata": {
  "kernelspec": {
   "display_name": "Python 3",
   "language": "python",
   "name": "python3"
  },
  "language_info": {
   "codemirror_mode": {
    "name": "ipython",
    "version": 3
   },
   "file_extension": ".py",
   "mimetype": "text/x-python",
   "name": "python",
   "nbconvert_exporter": "python",
   "pygments_lexer": "ipython3",
   "version": "3.10.4"
  }
 },
 "nbformat": 4,
 "nbformat_minor": 2
}
